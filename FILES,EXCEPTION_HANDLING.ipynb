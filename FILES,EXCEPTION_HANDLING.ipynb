{
  "nbformat": 4,
  "nbformat_minor": 0,
  "metadata": {
    "colab": {
      "provenance": []
    },
    "kernelspec": {
      "name": "python3",
      "display_name": "Python 3"
    },
    "language_info": {
      "name": "python"
    }
  },
  "cells": [
    {
      "cell_type": "markdown",
      "source": [
        "1.**What is the difference between interpreted and compiled languages?**\n",
        "\n",
        "The key difference between interpreted and compiled languages lies in how the source code is executed:\n",
        "\n",
        "**Compiled Languages:**\n",
        "\n",
        "In compiled languages, the entire source code is translated into machine code (binary code) by a compiler before it is executed. This creates an executable file that can be run independently of the source code.\n",
        "\n",
        "The compilation process happens only once, and the resulting executable file can be run multiple times without needing recompilation.\n",
        "Examples of compiled languages: C, C++, Rust, Go\n",
        "\n",
        "**Interpreted Languages:**\n",
        "\n",
        "In interpreted languages, the source code is executed line by line by an interpreter at runtime. The interpreter reads and executes the code directly without generating an intermediate executable file.\n",
        "\n",
        "The execution happens in real-time, and the interpreter must be available each time the code is run.\n",
        "\n",
        "2. **What is exception handling in Python?**\n",
        "\n",
        "Exception handling in Python is a mechanism to handle runtime errors (or exceptions) gracefully, allowing the program to continue running without crashing when an error occurs. It uses specific keywords (try, except, else, finally) to catch and manage errors.\n"
      ],
      "metadata": {
        "id": "C63X90ijPIGC"
      }
    },
    {
      "cell_type": "code",
      "source": [
        "try:\n",
        "    # Code that might raise an exception\n",
        "    risky_code()\n",
        "except SomeException as e:\n",
        "    # Code to handle the exception\n",
        "    print(f\"An error occurred: {e}\")\n",
        "else:\n",
        "    # Code to run if no exception occurred\n",
        "    print(\"All is well!\")\n",
        "finally:\n",
        "    # Code that runs no matter what (used for cleanup)\n",
        "    print(\"Execution complete.\")"
      ],
      "metadata": {
        "id": "ZJBW2o3sP9BG"
      },
      "execution_count": null,
      "outputs": []
    },
    {
      "cell_type": "code",
      "source": [],
      "metadata": {
        "id": "JjMGfjZQQFvd"
      },
      "execution_count": null,
      "outputs": []
    },
    {
      "cell_type": "markdown",
      "source": [
        "3.**What is the purpose of the finally block in exception handling**\n",
        "\n",
        "The finally **block** in exception handling is used to define code that should always be executed, regardless of whether an exception was raised or not in the try block. It ensures that certain clean-up actions or final steps are performed, even if an error occurs during the execution of the try block.\n",
        "\n",
        "**Purpose of the finally block:**\n",
        "\n",
        "1. **Cleanup Resources:**\n",
        "\n",
        "The finally block is often used to close files, network connections, or release other resources that may have been opened in the try block.\n",
        "\n",
        "---\n",
        "\n",
        "\n",
        "This is important because if an exception occurs, the program might not reach the part of the code where the resources would normally be cleaned up. The finally block guarantees cleanup, whether an exception occurs or not.\n",
        "\n",
        "\n",
        "2. **Ensure Code Execution:**\n",
        "\n",
        "It is executed no matter what happens in the try block—whether an exception is raised or not, or whether it’s caught or not. This makes it ideal for tasks like closing files, releasing locks, or logging completion.\n",
        "\n",
        "\n",
        "3. **Error Handling Assurance:**\n",
        "\n",
        "Even if an exception is raised and caught in an except block, the finally block will still execute, ensuring that critical cleanup steps are not skipped.\n",
        "\n",
        "4. ** What is logging in Python?**\n",
        "\n",
        "Logging in Python refers to the process of recording messages that provide insight into the execution of a program. This can help developers track events, debug issues, or monitor the program’s behavior in production. Python provides a built-in module called logging that enables developers to log messages with different severity levels, such as debugging information, warnings, errors, or critical failures.\n",
        "\n",
        "**Key Features of Logging in Python:**\n",
        "\n",
        "\n",
        "*Logging Levels:*\n",
        "\n",
        "You can specify the severity of the messages you want to log. Python’s logging module supports several logging levels:\n",
        "\n",
        "*DEBUG:*\n",
        "\n",
        " Detailed information for diagnosing problems. Typically, this level is used for development and debugging.\n",
        "\n",
        "*INFO:*\n",
        "\n",
        " General information about the program's execution. Used for tracking progress.\n",
        "\n",
        "*WARNING:*\n",
        "\n",
        " Indicates a potential problem or something that could cause issues later.\n",
        "\n",
        "*ERROR:*\n",
        "\n",
        "Indicates that something went wrong, usually resulting in the program not functioning as expected.\n",
        "\n",
        "\n",
        "\n",
        "---\n",
        "\n"
      ],
      "metadata": {
        "id": "PgpEHdjDQKUc"
      }
    },
    {
      "cell_type": "markdown",
      "source": [
        "5.**What is the significance of the __del__ method in Python**\n",
        "\n",
        "In Python, the __del__ method is a special method that is used to define an object's **destructor**, which is called when an object is about to be destroyed or garbage collected. Its main significance lies in cleaning up resources or performing specific actions just before an object is removed from memory, such as closing files, network connections, or releasing other system resources that are not automatically managed by Python's garbage collector.\n",
        "\n",
        "\n",
        "\n",
        "**Key Points About __del__:**\n",
        "\n",
        "\n",
        "1.**Destructor for Object Cleanup:**\n",
        "\n",
        "* The __del__ method is called when an object is no longer referenced and is about to be garbage collected.\n",
        "\n",
        "\n",
        "* It's useful for cleanup tasks like closing files, releasing database connections, or deallocating any resources held by the object.\n",
        "\n",
        "\n",
        "**Automatic Call:**\n",
        "\n",
        "---\n",
        "\n",
        "\n",
        "\n",
        "* You don't call __del__ directly. Python automatically invokes it when an object is deleted or when the program ends, and the object is no longer reachable (i.e., there are no references to it)\n",
        "\n",
        "\n",
        "**Syntax:** The __del__ method is defined like any other method but with the name __del__:\n",
        "\n",
        "\n",
        "class MyClass:\n",
        "    def __del__(self):\n",
        "        print(\"Destructor called, object is being destroyed.\")\n",
        "\n",
        "\n",
        "\n",
        "---\n",
        "\n",
        "6. **What is the difference between import and from ... import in Python?**\n",
        "\n",
        "\n",
        "In Python, both import and from ... import are used to bring modules or specific parts of modules into the current namespace, but they work in different ways and have different use cases.\n",
        "\n",
        "\n",
        "1. **import Statement:**\n",
        "The import statement is used to load a whole module into your code.\n",
        "After importing a module, you need to refer to its functions, classes, or variables by prefixing them with the module's name.\n",
        "\n",
        "**Syntax:**\n",
        "\n",
        "import module_name\n",
        "\n",
        "**Example:**\n",
        "\n",
        "import math\n",
        "\n",
        "print(math.sqrt(16))  # Accessing sqrt function from the math module.\n",
        "\n",
        "\n",
        "\n",
        "---\n",
        "\n",
        "\n",
        "\n"
      ],
      "metadata": {
        "id": "cH8u23IwRh9H"
      }
    },
    {
      "cell_type": "markdown",
      "source": [
        "7. **How can you handle multiple exceptions in Python**\n",
        "\n",
        "\n",
        "In Python, you can handle multiple exceptions in several ways. The try and except blocks allow you to catch specific exceptions, and you can use different approaches to handle multiple exceptions, either by specifying multiple except blocks or by using a single block to handle multiple exceptions.\n",
        "\n",
        ". **Using Multiple except Blocks:**"
      ],
      "metadata": {
        "id": "eXwNQD3oTirC"
      }
    },
    {
      "cell_type": "code",
      "source": [
        "try:\n",
        "    num = int(input(\"Enter a number: \"))\n",
        "    result = 10 / num\n",
        "except ValueError:\n",
        "    print(\"That's not a valid number!\")\n",
        "except ZeroDivisionError:\n",
        "    print(\"Cannot divide by zero!\")\n",
        "except Exception as e:  # Catch any other exceptions\n",
        "    print(f\"An unexpected error occurred: {e}\")"
      ],
      "metadata": {
        "colab": {
          "base_uri": "https://localhost:8080/"
        },
        "id": "ItF_Zkb0T-EO",
        "outputId": "8f9db980-99d3-4483-bf74-0665db215a1b"
      },
      "execution_count": 1,
      "outputs": [
        {
          "name": "stdout",
          "output_type": "stream",
          "text": [
            "Enter a number: 50\n"
          ]
        }
      ]
    },
    {
      "cell_type": "code",
      "source": [],
      "metadata": {
        "id": "Y6bFPspeUFBp"
      },
      "execution_count": null,
      "outputs": []
    },
    {
      "cell_type": "markdown",
      "source": [
        "* **Using else and finally with Multiple Exceptions:**\n",
        "\n"
      ],
      "metadata": {
        "id": "qkENWQfLUNzp"
      }
    },
    {
      "cell_type": "code",
      "source": [
        "try:\n",
        "    num = int(input(\"Enter a number: \"))\n",
        "    result = 10 / num\n",
        "except (ValueError, ZeroDivisionError) as e:\n",
        "    print(f\"An error occurred: {e}\")\n",
        "else:\n",
        "    print(f\"Result: {result}\")  # This will run only if no exception occurs\n",
        "finally:\n",
        "    print(\"Execution complete.\")  # This will always run"
      ],
      "metadata": {
        "colab": {
          "base_uri": "https://localhost:8080/"
        },
        "id": "BvhWjjM5UTPJ",
        "outputId": "7269fc33-9a21-4a64-9cd1-584ea5733958"
      },
      "execution_count": 2,
      "outputs": [
        {
          "output_type": "stream",
          "name": "stdout",
          "text": [
            "Enter a number: 50\n",
            "Result: 0.2\n",
            "Execution complete.\n"
          ]
        }
      ]
    },
    {
      "cell_type": "markdown",
      "source": [
        "8. **What is the purpose of the with statement when handling files in Python?**\n",
        "\n",
        "\n",
        "The with statement in Python is used for resource management, specifically for managing files, database connections, or any resource that requires cleanup after usage. When handling files, the with statement is used to ensure that the file is properly opened and closed, even if an exception occurs during the file operations.\n",
        "\n",
        "\n",
        "**Purpose of the with Statement When Handling Files:**\n",
        "\n",
        "1. Automatic Resource Management:\n",
        "\n",
        "* The with statement automatically takes care of opening and closing the file, so you don't need to manually call file.close() at the end.\n",
        "\n",
        "* This prevents potential issues such as files remaining open, which could lead to memory leaks or file access errors.\n",
        "\n",
        "2. **Context Manager:**\n",
        "\n",
        "The with statement works with a context manager, which is an object that defines the behavior of the with block. The context manager manages the entry (opening the file) and exit (closing the file) operations.\n",
        "\n",
        "The with statement simplifies resource management by abstracting away the need for explicit try/finally blocks.\n",
        "\n",
        "\n",
        "3. **Exception Handling:**\n",
        "\n",
        "* If an error occurs while working with the file, the with statement ensures that the file is still properly closed when the block is exited, even if an exception is raised.\n",
        "\n",
        "* This eliminates the need to explicitly handle closing the file in case of an exception.\n",
        "\n",
        "\n",
        "\n",
        "---\n",
        "9.** What is the difference between multithreading and multiprocessing?**\n",
        "\n",
        "Multithreading and multiprocessing are both techniques used to execute multiple tasks concurrently in Python, but they differ in how they achieve concurrency and the types of problems they are best suited to solve\n",
        "\n",
        "**Multithreading:**\n",
        "\n",
        "**Definition**:\n",
        "\n",
        "Multithreading involves running multiple threads (smaller units of a process) within a single process. Threads share the same memory space and resources, making them lighter weight than processes.\n",
        "\n",
        "**Concurrency:**\n",
        "\n",
        "Threads in a multithreaded program run concurrently within the same process, sharing the same memory space. They are often used for tasks that require frequent I/O operations or tasks that can be split into smaller sub-tasks.\n",
        "\n",
        "**Global Interpreter Lock (GIL):**\n",
        "\n",
        " In CPython (the most commonly used implementation of Python), the Global Interpreter Lock (GIL) ensures that only one thread executes Python bytecode at a time, which can limit the effectiveness of multithreading for CPU-bound tasks.\n",
        "\n",
        "However, threads can still be beneficial for I/O-bound tasks (e.g., network or disk operations) because while one thread waits for I/O operations to complete, other threads can run.\n",
        "\n",
        "\n",
        "\n",
        "\n",
        "\n",
        "\n",
        "2. **Multiprocessing:**\n",
        "\n",
        "**Definition:**\n",
        "\n",
        " Multiprocessing involves running multiple processes, each with its own memory space and resources. Each process runs independently and is usually executed on different CPU cores, which can fully take advantage of multi-core systems.\n",
        "\n",
        "**Concurrency and Parallelism:**\n",
        "\n",
        " Since each process has its own Python interpreter and memory space, multiprocessing avoids the limitations of the GIL. This makes it more effective for CPU-bound tasks that need parallel processing across multiple CPU cores.\n",
        "\n",
        "\n",
        "\n",
        "---\n",
        "\n",
        "10. ** What are the advantages of using logging in a program?**\n",
        "\n",
        "The advantages of using logging in a program are numerous and crucial for maintaining software quality and reliability.\n",
        "\n",
        "**Key benefits include:**\n",
        "\n",
        "**Improved debugging and troubleshooting**\n",
        " by providing detailed information on program behavior.\n",
        "\n",
        "\n",
        "**Better performance** monitoring and tracking.\n",
        "\n",
        "\n",
        "**Audit trails** for tracking user actions and system events.\n",
        "\n",
        "\n",
        "**Real-time monitoring** in production systems with alerting.\n",
        "\n",
        "\n",
        "**Separation of concerns**, allowing developers to manage log output separately from user-facing output.\n",
        "\n",
        "\n",
        "**Configurability** to suit different needs, including log rotation, output formats, and destinations.\n",
        "\n",
        "\n",
        "**Persistence**for historical records of application behavior and errors.\n",
        "\n",
        "\n",
        "\n",
        "---\n",
        "\n",
        "\n",
        "\n"
      ],
      "metadata": {
        "id": "I52yBZRZUcl_"
      }
    },
    {
      "cell_type": "markdown",
      "source": [
        "11. **What is memory management in Python?**\n",
        "\n",
        "**Memory management in Python**refers to the process of allocating, managing, and freeing memory used by objects during the execution of a Python program. Python provides several mechanisms to manage memory automatically, allowing the developer to focus on logic rather than worrying about manual memory handling.\n",
        "\n",
        "\n",
        "Here’s a breakdown of how memory management works in Python:\n",
        "\n",
        "1. **Memory Allocation:**\n",
        "\n",
        "* **Object Creation**: When an object is created (e.g., a variable or a data structure), Python automatically allocates memory for that object. This memory allocation is handled by the Python memory manager.\n",
        "\n",
        "* **Dynamic Typing:** Since Python is dynamically typed, the type of a variable is determined at runtime, and memory is allocated accordingly.\n",
        "\n",
        "2. **Automatic Memory Management:**\n",
        "\n",
        "**Garbage Collection:** Python uses an automatic garbage collection system to manage memory. The primary goal of garbage collection is to reclaim memory that is no longer in use, so the program does not run out of memory.\n",
        "\n",
        "**Reference Counting:** Each object in Python has a reference count, which tracks the number of references to that object. When the reference count reaches zero (i.e., no part of the program is referencing that object), Python’s garbage collector automatically frees the memory associated with that object.\n",
        "\n",
        "\n",
        "---\n",
        "\n",
        "\n",
        "12.**What are the basic steps involved in exception handling in Python?**\n",
        "\n",
        "Exception handling in Python involves a series of steps to manage errors gracefully and ensure that your program can recover from unexpected situations or provide useful feedback to the user. The basic steps involved in exception handling in Python are:\n",
        "\n",
        "\n",
        "\n",
        "1. **Using a try Block:**\n",
        "\n",
        "The try block is where you place the code that might raise an exception. This is the code that you want to monitor for errors.\n",
        "\n",
        "If an exception occurs in this block, Python will immediately stop executing the remaining code in the try block and jump to the corresponding except block.\n",
        "\n",
        "Example:\n",
        "\n",
        "\n",
        "\n"
      ],
      "metadata": {
        "id": "R2cFVOb_Xd5d"
      }
    },
    {
      "cell_type": "code",
      "source": [
        "try:\n",
        "    x = 10 / 0  # This will raise a ZeroDivisionError\n",
        "except ZeroDivisionError:\n",
        "    print(\"You can't divide by zero!\")"
      ],
      "metadata": {
        "colab": {
          "base_uri": "https://localhost:8080/"
        },
        "id": "R06qelKtZBnB",
        "outputId": "e7abac7c-8e77-415b-9ab4-50ef3508782e"
      },
      "execution_count": 3,
      "outputs": [
        {
          "output_type": "stream",
          "name": "stdout",
          "text": [
            "You can't divide by zero!\n"
          ]
        }
      ]
    },
    {
      "cell_type": "code",
      "source": [],
      "metadata": {
        "id": "9rZaWL7kUcP_"
      },
      "execution_count": null,
      "outputs": []
    },
    {
      "cell_type": "markdown",
      "source": [
        " 2. **Handling the Exception with an except Block:**\n",
        "\n",
        "\n",
        "The except block catches and handles the exception. You specify the type of exception you are catching, and you can provide code to handle it appropriately (e.g., showing an error message, logging the issue, etc.).\n",
        "\n",
        "\n",
        "You can have multiple except blocks to handle different types of exceptions. If you don’t specify the exception type, it will catch all exceptions, but it's generally a good practice to catch specific exceptions.\n",
        "\n",
        "Example:"
      ],
      "metadata": {
        "id": "mXigKVGtZH9I"
      }
    },
    {
      "cell_type": "code",
      "source": [
        "try:\n",
        "    value = int(input(\"Enter a number: \"))\n",
        "except ValueError:\n",
        "    print(\"Invalid input! You must enter a valid number.\")"
      ],
      "metadata": {
        "colab": {
          "base_uri": "https://localhost:8080/"
        },
        "id": "5VhZJJGAZPY2",
        "outputId": "76c5c16d-c9c0-414e-ebc4-5a755cb72d7a"
      },
      "execution_count": 4,
      "outputs": [
        {
          "name": "stdout",
          "output_type": "stream",
          "text": [
            "Enter a number: 80\n"
          ]
        }
      ]
    },
    {
      "cell_type": "code",
      "source": [],
      "metadata": {
        "id": "ioTBj2XMZR5T"
      },
      "execution_count": null,
      "outputs": []
    },
    {
      "cell_type": "markdown",
      "source": [],
      "metadata": {
        "id": "gaRGYhzKaE_L"
      }
    },
    {
      "cell_type": "markdown",
      "source": [
        "13. **Why is memory management important in Python?**\n",
        "\n",
        "\n",
        "Memory management is **crucial** in Python for several reasons, particularly when developing applications that need to be efficient, scalable, and maintainable. Here are the key reasons why memory management is important in Python:\n",
        "\n",
        "1. **Preventing Memory Leaks:**\n",
        "\n",
        "\n",
        "* Memory leaks occur when a program consumes memory but fails to release it back to the system, even when it is no longer needed. This can lead to excessive memory usage, causing performance degradation, slowdowns, or even crashes.\n",
        "Python’s memory management system, including garbage collection and reference counting, helps minimize memory leaks by automatically cleaning up unused objects. However, improper handling of resources, like circular references, can still cause memory leaks.\n",
        "\n",
        "\n",
        "* Efficient memory management ensures that objects that are no longer in use are properly freed, reducing the likelihood of memory leaks.\n",
        "\n",
        "\n",
        "2. **Optimizing Performance:**\n",
        "\n",
        "\n",
        "* Efficient memory usage is essential for achieving optimal program performance, especially when working with large datasets or high-performance applications (e.g., machine learning, data processing, or real-time systems).\n",
        "\n",
        "\n",
        "* Python’s memory management system, which uses memory pools (via pymalloc), ensures that small objects are allocated and deallocated efficiently, reducing the overhead of frequent allocations.\n",
        "Memory optimization helps in reducing the overall memory footprint of your program, improving the speed of execution and making the program suitable for large-scale or memory-constrained environments.\n",
        "\n",
        "\n",
        "3. **Scalability:**\n",
        "\n",
        "\n",
        "* As Python programs scale, handling memory efficiently becomes more critical. If a program doesn't manage memory well, it might run out of memory when scaling up to handle larger inputs or more users.\n",
        "With good memory management, you can scale your applications without running into excessive memory usage, helping the program to remain stable and perform well under load.\n",
        "\n",
        "\n",
        "* Memory management tools, such as garbage collection, can be used to identify and handle situations where objects consume excessive memory, preventing bottlenecks.\n",
        "\n",
        "\n",
        "4. **System Resource Management:**\n",
        "\n",
        "* Efficient memory management ensures that your program uses system resources effectively. This is especially important in environments with limited memory (e.g., embedded systems, mobile apps, or virtual machines).\n",
        "\n",
        "\n",
        "* Python’s automatic memory management reduces the need for developers to manually allocate and deallocate memory (as is required in lower-level languages like C and C++), helping to avoid errors like double frees, dangling pointers, or buffer overflows.\n",
        "\n",
        "\n"
      ],
      "metadata": {
        "id": "wWl47klWZXmi"
      }
    },
    {
      "cell_type": "markdown",
      "source": [
        "\n",
        "\n",
        "---\n",
        "\n",
        "\n",
        "14. **What is the role of try and except in exception handling?**\n",
        "\n",
        "In Python, the try and except blocks play a crucial role in exception handling. They allow you to handle errors in a controlled way, preventing your program from crashing and providing useful feedback or alternative actions when something goes wrong.\n",
        "\n",
        "\n",
        "\n",
        "1. **Role of the try Block:**\n",
        "\n",
        "\n",
        "The try block is used to wrap the code that may raise an exception. The code inside the try block is executed normally, but if any exception occurs during its execution, the flow of control moves to the corresponding except block (if one exists).\n",
        "\n",
        "**Purpose** The main purpose of the try block is to catch potential errors and allow the program to continue execution or handle the error in a structured way.\n",
        "\n",
        "**Example of the try block:**"
      ],
      "metadata": {
        "id": "HjFgDydjaKN9"
      }
    },
    {
      "cell_type": "code",
      "source": [
        "try:\n",
        "    x = 10 / 0  # Division by zero raises an exception\n",
        "except ZeroDivisionError:\n",
        "    print(\"You cannot divide by zero.\")\n"
      ],
      "metadata": {
        "colab": {
          "base_uri": "https://localhost:8080/"
        },
        "id": "aK-a4uP-aioE",
        "outputId": "84732133-5b9f-4fc3-e2e0-606e5962f8f9"
      },
      "execution_count": 5,
      "outputs": [
        {
          "output_type": "stream",
          "name": "stdout",
          "text": [
            "You cannot divide by zero.\n"
          ]
        }
      ]
    },
    {
      "cell_type": "code",
      "source": [],
      "metadata": {
        "id": "KAKHT2-8an_m"
      },
      "execution_count": null,
      "outputs": []
    },
    {
      "cell_type": "markdown",
      "source": [
        "15.**How does Python's garbage collection system work?**\n",
        "\n",
        "Python’s garbage collection (GC) system is responsible for automatically managing memory by reclaiming memory from objects that are no longer in use. It helps prevent memory leaks and allows developers to focus on other aspects of programming, without worrying about manually allocating and deallocating memory.\n",
        "\n",
        "\n",
        "**Here’s how Python’s garbage collection system works in detail:**\n",
        "\n",
        "1. **Reference Counting (Primary Memory Management Technique):**\n",
        "\n",
        "\n",
        "Python uses a reference counting mechanism to manage the memory of objects.\n",
        "\n",
        "Each object in Python has an associated reference count, which tracks how many references point to that object.\n",
        "\n",
        "\n",
        "Every time a new reference to an object is created (e.g., by assigning an object to a variable or passing it as an argument), the reference count is incremented. When a reference goes out of scope or is deleted, the reference count is decremented.\n",
        "\n",
        "\n",
        "When the reference count of an object reaches zero, meaning no part of the program is referencing it anymore, the object is automatically garbage collected and the memory it occupied is freed.\n",
        "\n",
        "\n",
        "**Example of Reference Counting:**\n",
        "\n",
        "\n",
        "\n"
      ],
      "metadata": {
        "id": "7YVYCWWjaui1"
      }
    },
    {
      "cell_type": "code",
      "source": [
        "import sys\n",
        "\n",
        "a = []  # 'a' refers to a new list object\n",
        "print(sys.getrefcount(a))  # Reference count of 'a' is 2 (1 for the variable 'a' and 1 for the argument in getrefcount)\n",
        "\n",
        "b = a  # Now 'b' also refers to the same list object\n",
        "print(sys.getrefcount(a))  # Reference count increases to 3\n",
        "\n",
        "del b  # 'b' no longer refers to the list\n",
        "print(sys.getrefcount(a))  # Reference count decreases to 2\n"
      ],
      "metadata": {
        "colab": {
          "base_uri": "https://localhost:8080/"
        },
        "id": "AxRb8VeabV5E",
        "outputId": "a2857088-272b-4f10-d6ad-5e81e46e87c8"
      },
      "execution_count": 6,
      "outputs": [
        {
          "output_type": "stream",
          "name": "stdout",
          "text": [
            "2\n",
            "3\n",
            "2\n"
          ]
        }
      ]
    },
    {
      "cell_type": "code",
      "source": [],
      "metadata": {
        "id": "3GW0ILCKbaw3"
      },
      "execution_count": null,
      "outputs": []
    },
    {
      "cell_type": "markdown",
      "source": [
        "\n",
        "\n",
        "---\n",
        "16.**What is the purpose of the else block in exception handling?**\n",
        "\n",
        "\n",
        "**Purpose of the else Block:**\n",
        "\n",
        "**Separates normal logic from error-handling logic:**\n",
        "\n",
        "* The else block allows you to separate the normal flow of the program (i.e., the code that should run if no exception occurs) from the error-handling code in the except block. This makes your code cleaner and more readable.\n",
        "\n",
        "\n",
        "**Ensures the code only runs when there are no exceptions:**\n",
        "\n",
        "* The code in the else block will only run if the try block completes successfully and no exceptions are raised. This makes it an ideal place to put any logic that should only be executed after the try block runs without errors, such as computations or processing results.\n",
        "\n",
        "**Avoids redundant error-handling:**\n",
        "\n",
        "* By using the else block, you can ensure that certain actions (such as updating variables, logging information, or performing calculations) are only carried out when the try block is free from errors. This avoids cluttering the try block with additional checks for error-free execution."
      ],
      "metadata": {
        "id": "SnbNPK1CbdNE"
      }
    },
    {
      "cell_type": "markdown",
      "source": [
        "17. **What are the common logging levels in Python?**\n",
        "\n",
        "\n",
        "In Python, the logging module provides a flexible framework for emitting log messages from Python programs. These log messages help you track the flow of your program, debug issues, and record important events. The logging module defines several logging levels to categorize the severity or importance of the log messages.\n",
        "\n",
        "\n",
        "\n",
        "**Common Logging Levels in Python:**\n",
        "\n",
        "DEBUG:\n",
        "\n",
        "**Description:**\n",
        " The DEBUG level is used for detailed diagnostic output, typically useful only during development or troubleshooting. It logs everything, including very detailed information about the flow of the program.\n",
        "\n",
        "**Use Case:** Debugging code, inspecting variables, tracing execution.\n",
        "\n",
        "Numeric Value: 10\n"
      ],
      "metadata": {
        "id": "8-x1cgXfcSAW"
      }
    },
    {
      "cell_type": "code",
      "source": [
        "import logging\n",
        "logging.debug(\"This is a debug message.\")"
      ],
      "metadata": {
        "id": "4QtNbJQhcw3G"
      },
      "execution_count": 7,
      "outputs": []
    },
    {
      "cell_type": "code",
      "source": [],
      "metadata": {
        "id": "iMLmHYpacz5f"
      },
      "execution_count": null,
      "outputs": []
    },
    {
      "cell_type": "markdown",
      "source": [
        "\n",
        "\n",
        "---\n",
        "\n",
        "18. ** What is the difference between os.fork() and multiprocessing in Python?**\n",
        "\n",
        "\n",
        "In Python, both os.fork() and the multiprocessing module can be used to create new processes, but they have important differences in how they work, the level of control they provide, and their intended use cases. Below is a breakdown of the key differences between os.fork() and multiprocessing in Python.\n",
        "\n",
        "\n",
        "\n",
        "1. **os.fork():**\n",
        "\n",
        "\n",
        "**Forking Process:** os.fork() is a low-level system call that creates a new process by duplicating the calling (parent) process. After the fork() call, two processes continue executing independently: one is the parent process, and the other is the child process.\n",
        "\n",
        "\n",
        "**Platform:**\n",
        "\n",
        "It works only on Unix-based systems (Linux, macOS, etc.). os.fork() is not available on Windows because Windows doesn't support the concept of forking in the same way Unix-based systems do.\n",
        "\n",
        "**Memory Sharing:**\n",
        "\n",
        "When os.fork() is called, the child process gets a copy of the memory of the parent. This is typically done using a technique called copy-on-write, where both processes shar-write, where both processes share the same memory until one of them modifies it.\n",
        "\n",
        "\n",
        "\n",
        "---\n",
        "\n",
        "19. **What is the importance of closing a file in Python?**\n",
        "\n",
        "Closing a file in Python is an essential practice to ensure that file resources are properly released and to avoid potential issues such as memory leaks, file corruption, or running into file handle limits. Here are the key reasons why it’s important to close a file in Python:\n",
        "\n",
        "\n",
        "1. **Releases System Resources**\n",
        "\n",
        "\n",
        "When you open a file, the operating system allocates resources (like memory and file handles) to manage the file. If you don't explicitly close the file using file.close(), those resources remain allocated, potentially leading to resource leakage. Closing the file releases the system resources, making them available for other processes or operations.\n",
        "\n",
        "\n",
        "2. **Ensures Data is Written to Disk**\n",
        "\n",
        "\n",
        "When you open a file in write mode (e.g., w, a), data is typically buffered, meaning it's stored temporarily in memory before being written to the disk. If the file is not closed, some of the data in the buffer might not be written to the file, leading to data loss. Closing the file ensures that all buffered data is flushed and written to disk.\n",
        "\n",
        "\n",
        "\n",
        "---\n",
        "\n"
      ],
      "metadata": {
        "id": "e0PULYwwc3Iv"
      }
    },
    {
      "cell_type": "markdown",
      "source": [
        "20. **What is the difference between file.read() and file.readline() in Python?**\n",
        "\n",
        "In Python, both file.read() and file.readline() are methods used to read data from a file, but they behave differently in how they handle reading the file's contents. Here’s a detailed explanation of the differences:\n",
        "\n",
        "1. **file.read():**\n",
        "\n",
        "\n",
        "**Description:** The read() method reads the entire content of the file at once.\n",
        "\n",
        "**Return Value:** It returns the file's content as a single string.\n",
        "\n",
        "**Use Case:** Use file.read() when you want to read the whole file in one go, which is especially useful when the file size is small to moderate and can comfortably fit into memory.\n",
        "\n",
        "**Behavior:** It reads from the current position to the end of the file. If the file pointer is not at the beginning of the file, it will start reading from the current position.\n",
        "\n",
        "2. **file.readline():**\n",
        "\n",
        "\n",
        "**Description:**\n",
        "The readline() method reads one line from the file at a time, including the newline character (\\n) at the end of the line, if it exists.\n",
        "\n",
        "**Return Value:**\n",
        "\n",
        "It returns a single line from the file as a string.\n",
        "\n",
        "**Use Case:** Use file.readline() when you want to read the file line by line. This is useful when the file is large and you want to process each line individually without loading the entire file into memory.\n",
        "\n",
        "**Behavior:** After reading one line, the file pointer moves to the beginning of the next line.\n",
        "\n",
        "\n",
        "\n",
        "---\n",
        "\n",
        "\n",
        "\n",
        "\n"
      ],
      "metadata": {
        "id": "Du-3b9zEeAyx"
      }
    },
    {
      "cell_type": "markdown",
      "source": [
        "21. **What is the logging module in Python used for?**\n",
        "\n",
        "\n",
        "The logging module in Python is a built-in library that provides a flexible framework for logging messages from Python programs. It helps developers track events, debug issues, and monitor the behavior of their programs by recording important information. The logging system allows you to log messages at various severity levels (e.g., debugging, informational, warnings, errors, and critical messages).\n",
        "\n",
        "\n",
        "\n",
        "**Key Uses of the logging Module:**\n",
        "\n",
        "**Tracking Program Execution:**\n",
        "\n",
        "The logging module helps developers track how a program is running by logging messages at different points in the application. This is particularly useful for debugging and understanding the flow of the program.\n",
        "\n",
        "**Error and Exception Tracking:**\n",
        "\n",
        "Logging helps in tracking and recording errors and exceptions that occur in the program. You can log detailed information when an exception is raised, including the traceback, which is valuable for diagnosing issues.\n",
        "\n",
        "**Monitoring and Alerts:**\n",
        "\n",
        "You can use the logging module to monitor the program's behavior in production environments. By logging warnings, errors, and critical messages, you can set up alerts or notifications to inform you of potential issues in the system.\n",
        "\n",
        "\n",
        "**Audit Trail:**\n",
        "\n",
        "For security and compliance reasons, logging can be used to create an audit trail of user actions or system events. This is especially important in applications that require accountability, like financial systems or web applications with sensitive data.\n",
        "\n",
        "**Debugging and Troubleshooting:**\n",
        "\n",
        "Logs provide a way to output debugging information during development, helping developers identify and fix problems. By controlling the level of logging, developers can increase the verbosity for debugging or reduce it for production.\n",
        "\n",
        "\n",
        "\n",
        "---\n",
        "\n",
        "22.  **What is the os module in Python used for in file handling?**\n",
        "\n",
        "The os **module** in Python provides a way to interact with the operating system, allowing you to perform a variety of tasks related to file handling and system operations. Specifically, when it comes to file handling, the os module provides functions for interacting with the file system, manipulating file paths, and managing directories.\n",
        "\n",
        "\n",
        "23. **What are the challenges associated with memory management in Python?**\n",
        "\n",
        "While Python's memory management is largely automated and convenient, there are still several challenges, including memory leaks, garbage collection overhead, memory fragmentation, unintentional memory retention, and inefficient data structures. Developers should be aware of these challenges, use memory-efficient data types and structures, and periodically profile their code to ensure efficient memory usage, especially in large or long-running applications. Using tools like Python's gc module and profilers can help identify memory issues and optimize memory management.\n",
        "\n",
        "\n",
        "24. **How do you raise an exception manually in Python?**\n",
        "\n",
        "In Python, you can raise an exception manually using the raise keyword. This allows you to trigger an exception at any point in your code, either by raising a built-in exception or a custom exception that you define yourself.\n",
        "\n",
        "**Syntax:**\n",
        "\n"
      ],
      "metadata": {
        "id": "7EZ752Lge1mB"
      }
    },
    {
      "cell_type": "code",
      "source": [
        "# Example 1: Raising a Built-in Exception\n",
        "x = 5\n",
        "\n",
        "if x < 0:\n",
        "    raise ValueError(\"x cannot be negative\")"
      ],
      "metadata": {
        "id": "ud5Yssnogu50"
      },
      "execution_count": 12,
      "outputs": []
    },
    {
      "cell_type": "code",
      "source": [],
      "metadata": {
        "id": "9ie05AJCg5ov"
      },
      "execution_count": null,
      "outputs": []
    },
    {
      "cell_type": "markdown",
      "source": [
        "25. **Why is it important to use multithreading in certain applications?**\n",
        "\n",
        "\n",
        "Multithreading is important in certain applications because it can improve performance, responsiveness, and resource utilization, especially when tasks are independent and can be executed concurrently. Here are the key reasons why multithreading is essential in certain situations:\n",
        "\n",
        "\n",
        "\n",
        "1. **Improved Performance for I/O-Bound Tasks**\n",
        "\n",
        "In applications where the program spends a lot of time waiting for input/output (I/O) operations—such as reading from files, accessing databases, or making network requests—multithreading can significantly improve performance by allowing other threads to continue executing while one thread is waiting for I/O to complete.\n",
        "\n",
        "**Example:**\n",
        "\n",
        "In a web scraping application, one thread can request data from a website, while another thread can process data from a different source, thus reducing idle time and speeding up the overall process.\n",
        "Without multithreading, an I/O-bound application might block execution and waste time waiting for responses.\n",
        "\n",
        "2. **Better Resource Utilization in Multi-Core Processors**\n",
        "\n",
        "\n",
        "Modern computers and servers come with multiple CPU cores. Multithreading allows an application to take advantage of these cores by distributing tasks across multiple threads, enabling parallel execution. This is especially important for CPU-bound tasks, where the workload can be divided into smaller, parallel tasks.\n",
        "\n",
        "**Example:**\n",
        "\n",
        " A scientific simulation or data processing task that can split its workload into smaller computations. By using multiple threads, the task can run in parallel, utilizing multiple cores for faster processing.\n",
        "\n",
        "\n",
        "Without multithreading, the application would only use a single CPU core, leaving other cores underutilized.\n",
        "\n",
        "\n",
        "---\n",
        "\n",
        "\n",
        "\n",
        "**PRACTICAL QUESTIONS**\n",
        "\n"
      ],
      "metadata": {
        "id": "sgfTtOCYhDUd"
      }
    },
    {
      "cell_type": "code",
      "source": [
        "# 1. How can you open a file for writing in Python and write a string to iT?\n",
        " #Open the file for writing (will overwrite existing content)\n",
        "with open('example.txt', 'w') as file:\n",
        "    file.write(\"Hello, this is a test string.\")\n"
      ],
      "metadata": {
        "id": "ZpJNz-k7h5Kx"
      },
      "execution_count": 13,
      "outputs": []
    },
    {
      "cell_type": "code",
      "source": [
        "# 2.Write a Python program to read the contents of a file and print each line\n",
        "# Open the file in read mode ('r')\n",
        "with open('example.txt', 'r') as file:\n",
        "    # Iterate through each line in the file\n",
        "    for line in file:\n",
        "        print(line, end='')  # Print the line without adding an extra newline"
      ],
      "metadata": {
        "colab": {
          "base_uri": "https://localhost:8080/"
        },
        "id": "WslIzO89iGfY",
        "outputId": "6848387e-77c1-4490-8238-ccaa882c905e"
      },
      "execution_count": 14,
      "outputs": [
        {
          "output_type": "stream",
          "name": "stdout",
          "text": [
            "Hello, this is a test string."
          ]
        }
      ]
    },
    {
      "cell_type": "code",
      "source": [
        "3.#How would you handle a case where the file doesn't exist while trying to open it for reading?\n",
        "try:\n",
        "    # Attempt to open the file in read mode\n",
        "    with open('example.txt', 'r') as file:\n",
        "        # Read and print each line of the file\n",
        "        for line in file:\n",
        "            print(line, end='')  # Print the line without extra newline\n",
        "except FileNotFoundError:\n",
        "    # Handle the case where the file doesn't exist\n",
        "    print(\"Error: The file 'example.txt' does not exist.\")"
      ],
      "metadata": {
        "colab": {
          "base_uri": "https://localhost:8080/"
        },
        "id": "9LuA0-4xihFC",
        "outputId": "ab27774f-66c6-47b3-81f8-d6f7713e94c2"
      },
      "execution_count": 15,
      "outputs": [
        {
          "output_type": "stream",
          "name": "stdout",
          "text": [
            "Hello, this is a test string."
          ]
        }
      ]
    },
    {
      "cell_type": "code",
      "source": [
        "4.#Write a Python script that reads from one file and writes its content to another file?\n",
        "try:\n",
        "    # Open the source file in read mode\n",
        "    with open('source.txt', 'r') as source_file:\n",
        "        # Open the destination file in write mode (will overwrite if exists)\n",
        "        with open('destination.txt', 'w') as destination_file:\n",
        "            # Read the content of the source file and write it to the destination file\n",
        "            content = source_file.read()  # Read the entire content of the source file\n",
        "            destination_file.write(content)  # Write the content to the destination file\n",
        "\n",
        "    print(\"Content has been successfully copied from 'source.txt' to 'destination.txt'.\")\n",
        "\n",
        "except FileNotFoundError:\n",
        "    print(\"Error: The source file 'source.txt' does not exist.\")\n",
        "except IOError as e:\n",
        "    print(f\"Error: An I/O error occurred. Details: {e}\")\n",
        ""
      ],
      "metadata": {
        "colab": {
          "base_uri": "https://localhost:8080/"
        },
        "id": "rjU_KvVgjZ-T",
        "outputId": "ddc38f18-1202-4712-9747-8d6c5b09d119"
      },
      "execution_count": 16,
      "outputs": [
        {
          "output_type": "stream",
          "name": "stdout",
          "text": [
            "Error: The source file 'source.txt' does not exist.\n"
          ]
        }
      ]
    },
    {
      "cell_type": "code",
      "source": [
        "5.#How would you catch and handle division by zero error in Python?\n",
        "try:\n",
        "    # Try to perform a division\n",
        "    numerator = 10\n",
        "    denominator = 0\n",
        "    result = numerator / denominator\n",
        "    print(\"Result:\", result)\n",
        "except ZeroDivisionError:\n",
        "    # Handle the case when division by zero occurs\n",
        "    print(\"Error: Division by zero is not allowed.\")"
      ],
      "metadata": {
        "colab": {
          "base_uri": "https://localhost:8080/"
        },
        "id": "kvcEU9M7kQU5",
        "outputId": "bdc63d45-043a-495b-ae3d-1c2307a360dc"
      },
      "execution_count": 17,
      "outputs": [
        {
          "output_type": "stream",
          "name": "stdout",
          "text": [
            "Error: Division by zero is not allowed.\n"
          ]
        }
      ]
    },
    {
      "cell_type": "code",
      "source": [
        "6.# Write a Python program that logs an error message to a log file when a division by zero exception occurs.\n",
        "import logging\n",
        "\n",
        "# Configure the logging system\n",
        "logging.basicConfig(\n",
        "    filename='error.log',  # Log to a file called 'error.log'\n",
        "    level=logging.ERROR,   # Log only error and higher severity messages\n",
        "    format='%(asctime)s - %(levelname)s - %(message)s'  # Log format\n",
        ")\n",
        "\n",
        "try:\n",
        "    # Attempt to perform a division\n",
        "    numerator = 10\n",
        "    denominator = 0  # This will cause a ZeroDivisionError\n",
        "    result = numerator / denominator\n",
        "    print(\"Result:\", result)\n",
        "except ZeroDivisionError as e:\n",
        "    # Log the error message when division by zero occurs\n",
        "    logging.error(f\"Division by zero error: {e}\")\n",
        "    print(\"Error: Division by zero is not allowed.\")"
      ],
      "metadata": {
        "colab": {
          "base_uri": "https://localhost:8080/"
        },
        "id": "bzDFIRHbkkK0",
        "outputId": "2257c308-19bf-48a3-e32e-3e00535dc1b2"
      },
      "execution_count": 19,
      "outputs": [
        {
          "output_type": "stream",
          "name": "stderr",
          "text": [
            "ERROR:root:Division by zero error: division by zero\n"
          ]
        },
        {
          "output_type": "stream",
          "name": "stdout",
          "text": [
            "Error: Division by zero is not allowed.\n"
          ]
        }
      ]
    },
    {
      "cell_type": "code",
      "source": [
        "7.#How do you log information at different levels (INFO, ERROR, WARNING) in Python using the logging module.\n",
        "import logging\n",
        "\n",
        "# Configure the logging system\n",
        "logging.basicConfig(\n",
        "    filename='app.log',  # Log messages will be written to 'app.log'\n",
        "    level=logging.DEBUG,  # Set the logging level to DEBUG to capture all levels\n",
        "    format='%(asctime)s - %(levelname)s - %(message)s'  # Log format with timestamp, level, and message\n",
        ")\n",
        "\n",
        "# Logging at different levels\n",
        "logging.debug(\"This is a debug message.\")\n",
        "logging.info(\"This is an info message.\")\n",
        "logging.warning(\"This is a warning message.\")\n",
        "logging.error(\"This is an error message.\")\n",
        "logging.critical(\"This is a critical message.\")"
      ],
      "metadata": {
        "colab": {
          "base_uri": "https://localhost:8080/"
        },
        "id": "myFKFD0dkzLt",
        "outputId": "09e93cc8-13b7-45cb-9f6a-33213ee8edc6"
      },
      "execution_count": 20,
      "outputs": [
        {
          "output_type": "stream",
          "name": "stderr",
          "text": [
            "WARNING:root:This is a warning message.\n",
            "ERROR:root:This is an error message.\n",
            "CRITICAL:root:This is a critical message.\n"
          ]
        }
      ]
    },
    {
      "cell_type": "code",
      "source": [
        "8.# Write a program to handle a file opening error using exception handling.\n",
        "try:\n",
        "    # Attempt to open the file in read mode\n",
        "    with open('example.txt', 'r') as file:\n",
        "        # Read and print each line of the file\n",
        "        for line in file:\n",
        "            print(line, end='')  # Print the line without an extra newline\n",
        "except FileNotFoundError:\n",
        "    # Handle the case where the file does not exist\n",
        "    print(\"Error: The file 'example.txt' does not exist.\")\n",
        "except PermissionError:\n",
        "    # Handle the case where there is no permission to access the file\n",
        "    print(\"Error: You do not have permission to access the file.\")\n",
        "except Exception as e:\n",
        "    # Handle any other unexpected errors\n",
        "    print(f\"An unexpected error occurred: {e}\")\n"
      ],
      "metadata": {
        "colab": {
          "base_uri": "https://localhost:8080/"
        },
        "id": "xaabz8q3lS9J",
        "outputId": "250a0fa0-b2b6-4e37-f9ce-0aa4168d6e29"
      },
      "execution_count": 21,
      "outputs": [
        {
          "output_type": "stream",
          "name": "stdout",
          "text": [
            "Hello, this is a test string."
          ]
        }
      ]
    },
    {
      "cell_type": "code",
      "source": [
        "9.# How can you read a file line by line and store its content in a list in Python.\n",
        "# Initialize an empty list to store the lines\n",
        "lines = []\n",
        "\n",
        "# Open the file in read mode\n",
        "with open('example.txt', 'r') as file:\n",
        "    # Iterate over each line in the file\n",
        "    for line in file:\n",
        "        # Add each line to the list (using strip() to remove trailing newline)\n",
        "        lines.append(line.strip())  # .strip() removes any extra newline characters\n",
        "\n",
        "# Print the list of lines\n",
        "print(lines)"
      ],
      "metadata": {
        "colab": {
          "base_uri": "https://localhost:8080/"
        },
        "id": "1CQsNekNld5C",
        "outputId": "9b273851-746f-4401-b549-d7bcd4d75dbc"
      },
      "execution_count": 22,
      "outputs": [
        {
          "output_type": "stream",
          "name": "stdout",
          "text": [
            "['Hello, this is a test string.']\n"
          ]
        }
      ]
    },
    {
      "cell_type": "code",
      "source": [
        "10.#How can you append data to an existing file in Python.\n",
        "# Data to append\n",
        "data_to_append = \"\\nThis is the new line of text to append.\"\n",
        "\n",
        "# Open the file in append mode\n",
        "with open('example.txt', 'a') as file:\n",
        "    file.write(data_to_append)\n",
        "\n",
        "print(\"Data has been successfully appended.\")"
      ],
      "metadata": {
        "colab": {
          "base_uri": "https://localhost:8080/"
        },
        "id": "C6sVWvpLlvzV",
        "outputId": "815bd2d2-58c3-4b7d-f5a3-19cda1da42d4"
      },
      "execution_count": 23,
      "outputs": [
        {
          "output_type": "stream",
          "name": "stdout",
          "text": [
            "Data has been successfully appended.\n"
          ]
        }
      ]
    },
    {
      "cell_type": "code",
      "source": [
        "11.# Write a Python program that uses a try-except block to handle an error when attempting to access a\n",
        "#dictionary key that doesn't exist.\n",
        "# Define a dictionary\n",
        "my_dict = {'name': 'Alice', 'age': 25, 'city': 'New York'}\n",
        "\n",
        "# Try to access a key that may or may not exist\n",
        "try:\n",
        "    key_to_access = 'address'  # A key that doesn't exist in the dictionary\n",
        "    value = my_dict[key_to_access]  # Attempting to access the value of a non-existent key\n",
        "    print(f\"The value for '{key_to_access}' is: {value}\")\n",
        "except KeyError:\n",
        "    # Handle the case when the key doesn't exist\n",
        "    print(f\"Error: The key '{key_to_access}' does not exist in the dictionary.\")\n"
      ],
      "metadata": {
        "colab": {
          "base_uri": "https://localhost:8080/"
        },
        "id": "4zbGTUETl9GO",
        "outputId": "115bc622-bdf5-4b82-f615-a4393c9ed608"
      },
      "execution_count": 24,
      "outputs": [
        {
          "output_type": "stream",
          "name": "stdout",
          "text": [
            "Error: The key 'address' does not exist in the dictionary.\n"
          ]
        }
      ]
    },
    {
      "cell_type": "code",
      "source": [
        "12.#Write a program that demonstrates using multiple except blocks to handle different types of exceptions\n",
        "# Define a function that demonstrates multiple exceptions\n",
        "def demonstrate_exceptions():\n",
        "    try:\n",
        "        # Trying to divide by zero (ZeroDivisionError)\n",
        "        result = 10 / 0\n",
        "        print(f\"Result: {result}\")\n",
        "\n",
        "    except ZeroDivisionError:\n",
        "        print(\"Error: Cannot divide by zero.\")\n",
        "\n",
        "    try:\n",
        "        # Trying to convert a non-numeric string to an integer (ValueError)\n",
        "        value = int(\"abc\")\n",
        "        print(f\"Converted value: {value}\")\n",
        "\n",
        "    except ValueError:\n",
        "        print(\"Error: Invalid value for integer conversion.\")\n",
        "\n",
        "    try:\n",
        "        # Trying to access a key that doesn't exist in a dictionary (KeyError)\n",
        "        my_dict = {'name': 'Alice', 'age': 25}\n",
        "        value = my_dict['address']\n",
        "        print(f\"Address: {value}\")\n",
        "\n",
        "    except KeyError:\n",
        "        print(\"Error: The key 'address' does not exist in the dictionary.\")\n",
        "\n",
        "    try:\n",
        "        # Trying to open a non-existent file (FileNotFoundError)\n",
        "        with open('non_existent_file.txt', 'r') as file:\n",
        "            content = file.read()\n",
        "        print(content)\n",
        "\n",
        "    except FileNotFoundError:\n",
        "        print(\"Error: The file does not exist.\")\n",
        "\n",
        "# Call the function to see the behavior\n",
        "demonstrate_exceptions()\n"
      ],
      "metadata": {
        "colab": {
          "base_uri": "https://localhost:8080/"
        },
        "id": "bKB9xkgImNMb",
        "outputId": "179a849a-2080-48f0-d9f4-fe722a7cc611"
      },
      "execution_count": 28,
      "outputs": [
        {
          "output_type": "stream",
          "name": "stdout",
          "text": [
            "Error: Cannot divide by zero.\n",
            "Error: Invalid value for integer conversion.\n",
            "Error: The key 'address' does not exist in the dictionary.\n",
            "Error: The file does not exist.\n"
          ]
        }
      ]
    },
    {
      "cell_type": "code",
      "source": [
        "13.#How would you check if a file exists before attempting to read it in Python\n",
        "import os\n",
        "\n",
        "# Define the file path\n",
        "file_path = 'example.txt'\n",
        "\n",
        "# Check if the file exists\n",
        "if os.path.exists(file_path):\n",
        "    try:\n",
        "        with open(file_path, 'r') as file:\n",
        "            # Read and print the file contents\n",
        "            content = file.read()\n",
        "            print(content)\n",
        "    except Exception as e:\n",
        "        print(f\"An error occurred while reading the file: {e}\")\n",
        "else:\n",
        "    print(f\"The file '{file_path}' does not exist.\")"
      ],
      "metadata": {
        "colab": {
          "base_uri": "https://localhost:8080/"
        },
        "id": "-4yOCzOhmmgU",
        "outputId": "0cca2385-357c-4fd8-8f42-5b53f1c2e1d2"
      },
      "execution_count": 29,
      "outputs": [
        {
          "output_type": "stream",
          "name": "stdout",
          "text": [
            "Hello, this is a test string.\n",
            "This is the new line of text to append.\n"
          ]
        }
      ]
    },
    {
      "cell_type": "markdown",
      "source": [],
      "metadata": {
        "id": "QPmzfrYUnFf8"
      }
    },
    {
      "cell_type": "code",
      "source": [
        "14.# Write a program that uses the logging module to log both informational and error messages\n",
        "import logging\n",
        "\n",
        "# Configure the logging system\n",
        "logging.basicConfig(\n",
        "    filename='app.log',        # Log messages will be saved to 'app.log'\n",
        "    level=logging.DEBUG,       # Set the logging level to DEBUG to capture all levels\n",
        "    format='%(asctime)s - %(levelname)s - %(message)s'  # Log format with timestamp, level, and message\n",
        ")\n",
        "\n",
        "# Log an informational message\n",
        "logging.info(\"This is an informational message.\")\n",
        "\n",
        "# Simulate an error and log an error message\n",
        "try:\n",
        "    # Attempt to divide by zero, which will raise a ZeroDivisionError\n",
        "    result = 10 / 0\n",
        "except ZeroDivisionError as e:\n",
        "    # Log the error message with exception details\n",
        "    logging.error(f\"Error occurred: {e}\")\n",
        "# Log another informational message\n",
        "logging.info(\"Program execution completed.\")"
      ],
      "metadata": {
        "colab": {
          "base_uri": "https://localhost:8080/"
        },
        "id": "mKoGn56anJtU",
        "outputId": "f6653494-3398-4385-d935-1d8f7b941975"
      },
      "execution_count": 30,
      "outputs": [
        {
          "output_type": "stream",
          "name": "stderr",
          "text": [
            "ERROR:root:Error occurred: division by zero\n"
          ]
        }
      ]
    },
    {
      "cell_type": "code",
      "source": [
        "15.#Write a Python program that prints the content of a file and handles the case when the file is empty\n",
        "def read_file(file_path):\n",
        "    try:\n",
        "        # Open the file in read mode\n",
        "        with open(file_path, 'r') as file:\n",
        "            content = file.read()  # Read the entire content of the file\n",
        "\n",
        "            # Check if the file is empty\n",
        "            if content:\n",
        "                print(\"File content:\")\n",
        "                print(content)\n",
        "            else:\n",
        "                print(\"The file is empty.\")\n",
        "    except FileNotFoundError:\n",
        "        print(f\"Error: The file '{file_path}' does not exist.\")\n",
        "    except Exception as e:\n",
        "        print(f\"An unexpected error occurred: {e}\")\n",
        "\n",
        "# Example file path\n",
        "file_path = 'example.txt'\n",
        "read_file(file_path)"
      ],
      "metadata": {
        "colab": {
          "base_uri": "https://localhost:8080/"
        },
        "id": "OkHmQG0Wnf-4",
        "outputId": "f47ea164-dea4-40ee-ffa0-c6f1f15269ea"
      },
      "execution_count": 31,
      "outputs": [
        {
          "output_type": "stream",
          "name": "stdout",
          "text": [
            "File content:\n",
            "Hello, this is a test string.\n",
            "This is the new line of text to append.\n"
          ]
        }
      ]
    },
    {
      "cell_type": "code",
      "source": [],
      "metadata": {
        "id": "4R4mQ3ECn0QQ"
      },
      "execution_count": null,
      "outputs": []
    }
  ]
}